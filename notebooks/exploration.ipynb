{
 "cells": [
  {
   "cell_type": "code",
   "execution_count": null,
   "metadata": {},
   "outputs": [],
   "source": [
    "# Importing gradio for the UI\n",
    "import gradio as gr\n"
   ]
  },
  {
   "cell_type": "code",
   "execution_count": 2,
   "metadata": {},
   "outputs": [],
   "source": [
    "# Import the env_vars module\n",
    "import sys\n",
    "import os\n",
    "\n",
    "from modules.env_vars import set_os_env_vars, check_missing_vars\n",
    "from modules.neon_db import run_neon_query, load_sql_query\n",
    "from modules.date_functions import get_current_date\n",
    "from modules.reference_extraction import create_content_from_df\n",
    "from modules.prompt_templates import one_shot_example, system_message_example\n",
    "\n",
    "set_os_env_vars() # This will execute the code in env_vars.py and put the environment variables in os"
   ]
  },
  {
   "cell_type": "code",
   "execution_count": 3,
   "metadata": {},
   "outputs": [],
   "source": [
    "from modules.langchain_config import set_langsmith_client, get_langsmith_tracer, get_llm_model, load_model_costs\n",
    "\n",
    "set_langsmith_client()\n",
    "tracer = get_langsmith_tracer()"
   ]
  },
  {
   "cell_type": "code",
   "execution_count": null,
   "metadata": {},
   "outputs": [],
   "source": [
    "# Load the costs\n",
    "MODEL_COSTS = load_model_costs()\n",
    "MODEL_COSTS\n"
   ]
  },
  {
   "cell_type": "code",
   "execution_count": 5,
   "metadata": {},
   "outputs": [],
   "source": [
    "# Initialize the language model\n",
    "model_name = \"claude-3-5-sonnet-20241022\"\n",
    "# model_name = \"gpt-4o-mini\"\n",
    "streaming = True # Streaming is when the LLM returns a token at a time, instead of the entire response at once\n",
    "\n",
    "# Initialize the language model\n",
    "llm = get_llm_model(model_name, streaming, MODEL_COSTS)\n"
   ]
  },
  {
   "cell_type": "code",
   "execution_count": null,
   "metadata": {},
   "outputs": [],
   "source": [
    "query = load_sql_query(\"web_pages.sql\")\n",
    "df = run_neon_query(query)\n",
    "\n",
    "print(\"Number of rows:\", len(df.index))\n",
    "df.head(1)"
   ]
  },
  {
   "cell_type": "code",
   "execution_count": null,
   "metadata": {},
   "outputs": [],
   "source": [
    "# Print out the results (summary, titles, etc.)\n",
    "all_content, all_content_list = create_content_from_df(df)\n",
    "\n",
    "print(len(all_content_list))\n",
    "print(all_content_list[0])\n"
   ]
  },
  {
   "cell_type": "code",
   "execution_count": null,
   "metadata": {},
   "outputs": [],
   "source": [
    "newsletter_prompt = one_shot_example(get_current_date())\n",
    "\n",
    "# Create the chain with tracing\n",
    "chain = (newsletter_prompt | llm).with_config(\n",
    "    {\n",
    "        \"callbacks\": [tracer],\n",
    "        \"tags\": [\"newsletter_generation\"],\n",
    "    }\n",
    ")\n",
    "\n",
    "# Test the chain\n",
    "newsletter = chain.invoke({\"context\": all_content, \"current_date\": get_current_date()})\n",
    "print(newsletter.content)"
   ]
  },
  {
   "cell_type": "code",
   "execution_count": null,
   "metadata": {},
   "outputs": [],
   "source": [
    "newsletter_prompt = system_message_example()\n",
    "\n",
    "# Create the chain with tracing\n",
    "chain = (newsletter_prompt | llm).with_config(\n",
    "    {\n",
    "        \"callbacks\": [tracer],\n",
    "        \"tags\": [\"newsletter_generation\"],\n",
    "    }\n",
    ")\n",
    "\n",
    "# Test the chain\n",
    "newsletter = chain.invoke({\"context\": all_content, \"current_date\": get_current_date()})\n",
    "print(newsletter.content)"
   ]
  },
  {
   "cell_type": "code",
   "execution_count": null,
   "metadata": {},
   "outputs": [],
   "source": []
  }
 ],
 "metadata": {
  "kernelspec": {
   "display_name": "venv",
   "language": "python",
   "name": "python3"
  },
  "language_info": {
   "codemirror_mode": {
    "name": "ipython",
    "version": 3
   },
   "file_extension": ".py",
   "mimetype": "text/x-python",
   "name": "python",
   "nbconvert_exporter": "python",
   "pygments_lexer": "ipython3",
   "version": "3.11.5"
  }
 },
 "nbformat": 4,
 "nbformat_minor": 2
}
